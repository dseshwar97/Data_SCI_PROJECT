{
 "cells": [
  {
   "cell_type": "markdown",
   "metadata": {},
   "source": [
    "# BATTLE OF THE NEIGHBORHOODS\n",
    "####Applied D"
   ]
  },
  {
   "cell_type": "markdown",
   "metadata": {},
   "source": [
    "\n",
    "1.\tIntroduction/Business Problem\n",
    "\n",
    "Los Angeles is one of the most popular city in United States because of its renowned museums, unique hotels and vibrant multicultural neighborhoods. Being a popular city means it attracts thousands of tourists every year and thus tourism related business would be successful in L.A.\n",
    "A travel agency wants to create travel packages by segregating different neighborhoods of the city so that they can recommend packages to their customers based on their interest and preferences such as –\n",
    "•\tBeaches and water sports\n",
    "•\tCity Night life\n",
    "•\tMovie Studios\n",
    "•\tHiking Trail etc\n",
    "And also create a cluster map so that the customers can visualize it easily.\n",
    "\n",
    "2.\tData \n",
    "\n",
    "•\tThe data of Los Angeles city such as neighborhoods and their GPS co-ordinates was taken from Wikipedia.\n",
    "https://en.wikipedia.org/wiki/Los_Angeles_County_Board_of_Supervisors\n",
    "From the corresponding latitude and longitude data I can use Foursquare application to get details on venues in and around the neighborhood.\n",
    "\n",
    "•\tInformation on venues near the neighborhoods will be gathered from Foursquare.\n",
    "I used the acquired location data to explore the nearby important and unique venues from the Foursquare API. Using the \"explore\" option, I look for top 10 venues in 10 km radius for each neighborhood and I get \"Venue\", \"Venue Latitude\", \"Venue Longitude\" and \"Venue Category\".\n",
    "\n"
   ]
  }
 ],
 "metadata": {
  "kernelspec": {
   "display_name": "Python",
   "language": "python",
   "name": "conda-env-python-py"
  },
  "language_info": {
   "codemirror_mode": {
    "name": "ipython",
    "version": 3
   },
   "file_extension": ".py",
   "mimetype": "text/x-python",
   "name": "python",
   "nbconvert_exporter": "python",
   "pygments_lexer": "ipython3",
   "version": "3.6.10"
  }
 },
 "nbformat": 4,
 "nbformat_minor": 4
}
