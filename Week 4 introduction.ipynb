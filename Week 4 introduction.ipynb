{
 "cells": [
  {
   "cell_type": "markdown",
   "metadata": {},
   "source": [
    "# BATTLE OF THE NEIGHBORHOODS\n",
    "#### Applied Data Science Capstone"
   ]
  },
  {
   "cell_type": "markdown",
   "metadata": {},
   "source": [
    "\n",
    "1. __Introduction/Business Problem__\n",
    "\n",
    "Los Angeles is one of the most popular city in United States because of its renowned museums, unique hotels and vibrant multicultural neighborhoods. Being a popular city means it attracts thousands of tourists every year and thus tourism related business would be successful in L.A.\n",
    "A travel agency wants to create travel packages by segregating different neighborhoods of the city so that they can recommend packages to their customers based on their interest and preferences such as –\n",
    "* Beaches and water sports\n",
    "* City Night life\n",
    "* Movie Studios\n",
    "* Hiking Trail etc\n",
    "And also create a cluster map so that the customers can visualize it easily.\n",
    "\n",
    "\n",
    "\n"
   ]
  },
  {
   "cell_type": "code",
   "execution_count": null,
   "metadata": {},
   "outputs": [],
   "source": []
  }
 ],
 "metadata": {
  "kernelspec": {
   "display_name": "Python",
   "language": "python",
   "name": "conda-env-python-py"
  },
  "language_info": {
   "codemirror_mode": {
    "name": "ipython",
    "version": 3
   },
   "file_extension": ".py",
   "mimetype": "text/x-python",
   "name": "python",
   "nbconvert_exporter": "python",
   "pygments_lexer": "ipython3",
   "version": "3.6.10"
  }
 },
 "nbformat": 4,
 "nbformat_minor": 4
}
