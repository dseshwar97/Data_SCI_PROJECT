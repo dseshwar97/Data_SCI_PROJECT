{
 "cells": [
  {
   "cell_type": "markdown",
   "metadata": {},
   "source": [
    "# BATTLE OF THE NEIGHBORHOODS\n",
    "#### Applied Data Science Capstone"
   ]
  },
  {
   "cell_type": "markdown",
   "metadata": {},
   "source": [
    "2. __Data__ \n",
    "\n",
    "* The data of Los Angeles city such as neighborhoods and their GPS co-ordinates was taken from Wikipedia.\n",
    "  https://en.wikipedia.org/wiki/Los_Angeles_County_Board_of_Supervisors\n",
    "\n",
    "  From the corresponding latitude and longitude data I can use Foursquare application to get details on venues in and around   the neighborhood.\n",
    "\n",
    "* Information on venues near the neighborhoods will be gathered from Foursquare.    \n",
    " I used the acquired location data to explore the nearby important and unique venues from the Foursquare API. Using the \"      explore\" option, I look for top 10 venues in 10 km radius for each neighborhood and I get \"Venue\", \"Venue Latitude\", \"Venue   Longitude\" and \"Venue Category\".\n",
    "\n"
   ]
  },
  {
   "cell_type": "code",
   "execution_count": null,
   "metadata": {},
   "outputs": [],
   "source": []
  }
 ],
 "metadata": {
  "kernelspec": {
   "display_name": "Python",
   "language": "python",
   "name": "conda-env-python-py"
  },
  "language_info": {
   "codemirror_mode": {
    "name": "ipython",
    "version": 3
   },
   "file_extension": ".py",
   "mimetype": "text/x-python",
   "name": "python",
   "nbconvert_exporter": "python",
   "pygments_lexer": "ipython3",
   "version": "3.6.10"
  }
 },
 "nbformat": 4,
 "nbformat_minor": 4
}
